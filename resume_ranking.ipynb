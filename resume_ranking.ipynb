{
  "nbformat": 4,
  "nbformat_minor": 0,
  "metadata": {
    "colab": {
      "provenance": []
    },
    "kernelspec": {
      "name": "python3",
      "display_name": "Python 3"
    },
    "language_info": {
      "name": "python"
    }
  },
  "cells": [
    {
      "cell_type": "code",
      "source": [
        "import pandas as pd\n",
        "import re\n",
        "import nltk\n",
        "from nltk.corpus import stopwords\n",
        "from nltk.stem import WordNetLemmatizer\n",
        "from sklearn.feature_extraction.text import TfidfVectorizer\n",
        "from sklearn.metrics.pairwise import cosine_similarity\n",
        "\n",
        "# Download NLTK resources\n",
        "nltk.download('stopwords')\n",
        "nltk.download('wordnet')\n",
        "\n",
        "\n",
        "# Initialize stop words and lemmatizer\n",
        "stop_words = set(stopwords.words('english'))\n",
        "lemmatizer = WordNetLemmatizer()\n",
        "\n",
        "def preprocess_text(text):\n",
        "    # Lowercasing\n",
        "    text = text.lower()\n",
        "\n",
        "    # Removing punctuation\n",
        "    text = re.sub(r'[^\\w\\s]', '', text)\n",
        "\n",
        "    # Tokenization\n",
        "    tokens = text.split()\n",
        "\n",
        "    # Removing stop words and lemmatization\n",
        "    tokens = [lemmatizer.lemmatize(word) for word in tokens if word not in stop_words]\n",
        "\n",
        "    # Joining tokens back into a single string\n",
        "    text = ' '.join(tokens)\n",
        "\n",
        "    return text\n",
        "\n",
        "\n",
        "# Load dataset\n",
        "resumes_df = pd.read_excel('/content/Resume Ranking Data set.xlsx')\n",
        "\n",
        "# Fill NaN values with empty strings\n",
        "resumes_df.fillna('', inplace=True)\n",
        "\n",
        "# Convert all relevant fields to string before concatenation\n",
        "columns_to_combine = ['name', 'degree', 'skills', 'work_segment',\n",
        "                      'projects_segment', 'objectives_segment', 'misc_segment', 'accomplishments_segment']\n",
        "for column in columns_to_combine:\n",
        "    resumes_df[column] = resumes_df[column].astype(str)\n",
        "\n",
        "\n",
        "\n",
        "# Combine relevant fields into a single text field for each resume\n",
        "resumes_df['combined_text'] = resumes_df[columns_to_combine].agg(' '.join, axis=1)\n",
        "\n",
        "# Apply preprocessing to the combined text\n",
        "resumes_df['combined_text'] = resumes_df['combined_text'].apply(preprocess_text)\n",
        "\n",
        "\n",
        "# Sample job description\n",
        "job_description = \"\"\"\n",
        "Looking for a full stack developer proficient in Python, JavaScript, and Django.\n",
        "Must have experience with machine learning and deep learning projects.\n",
        "A degree in Computer Science or related field is preferred.\n",
        "\"\"\"\n",
        "\n",
        "# Apply preprocessing to the job description\n",
        "job_description = preprocess_text(job_description)\n",
        "\n",
        "# Initialize TF-IDF Vectorizer\n",
        "vectorizer = TfidfVectorizer()\n",
        "\n",
        "# Fit and transform the resumes and job description\n",
        "tfidf_matrix = vectorizer.fit_transform(resumes_df['combined_text'])\n",
        "job_desc_tfidf = vectorizer.transform([job_description])\n",
        "\n",
        "# Compute cosine similarity\n",
        "cosine_similarities = cosine_similarity(job_desc_tfidf, tfidf_matrix).flatten()\n",
        "\n",
        "# Add similarity scores to the DataFrame\n",
        "resumes_df['similarity_score'] = cosine_similarities\n",
        "\n",
        "# Sort resumes by similarity score\n",
        "ranked_resumes = resumes_df.sort_values(by='similarity_score', ascending=False)\n",
        "\n",
        "# Output the top 10 resumes with names and similarity scores\n",
        "top_10_resumes = ranked_resumes.head(10)\n",
        "print(top_10_resumes[['name', 'similarity_score', 'combined_text']])\n"
      ],
      "metadata": {
        "colab": {
          "base_uri": "https://localhost:8080/"
        },
        "id": "mCW3w-7gR5LV",
        "outputId": "c0380c96-c2a8-476d-8cf6-658f9802b98d"
      },
      "execution_count": null,
      "outputs": [
        {
          "output_type": "stream",
          "name": "stderr",
          "text": [
            "[nltk_data] Downloading package stopwords to /root/nltk_data...\n",
            "[nltk_data]   Package stopwords is already up-to-date!\n",
            "[nltk_data] Downloading package wordnet to /root/nltk_data...\n",
            "[nltk_data]   Package wordnet is already up-to-date!\n"
          ]
        },
        {
          "output_type": "stream",
          "name": "stdout",
          "text": [
            "                 name  similarity_score  \\\n",
            "101          react js          0.196599   \n",
            "160     Deep Learning          0.191542   \n",
            "63        Anand Singh          0.186904   \n",
            "330     Deep Learning          0.185995   \n",
            "486         Python          0.184338   \n",
            "9    Apache Cassandra          0.183969   \n",
            "62       Google Cloud          0.180753   \n",
            "604         Python          0.174372   \n",
            "622  Python Developer          0.174237   \n",
            "189      Ekata Kumari          0.174127   \n",
            "\n",
            "                                         combined_text  \n",
            "101  react j btech b c programming assessment jquer...  \n",
            "160  deep learning m btech bsc b physic deep learni...  \n",
            "63   anand singh b msc m b m algorithm deep learnin...  \n",
            "330  deep learning m btech vehicle maintenance cust...  \n",
            "486  python btech assessment resume python ion tech...  \n",
            "9    apache cassandra m btech b api training natura...  \n",
            "62   google cloud b msc m b m algorithm deep learni...  \n",
            "604  python m btech coursera completion fit assessm...  \n",
            "622  python developer m btech b c programming compl...  \n",
            "189  ekata kumari m btech mtech algorithm internshi...  \n"
          ]
        }
      ]
    },
    {
      "cell_type": "code",
      "source": [],
      "metadata": {
        "id": "zmbRIuijvAMs"
      },
      "execution_count": null,
      "outputs": []
    },
    {
      "cell_type": "markdown",
      "source": [],
      "metadata": {
        "id": "bneBqhUvrZfU"
      }
    }
  ]
}